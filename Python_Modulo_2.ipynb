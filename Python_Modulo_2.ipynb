{
  "nbformat": 4,
  "nbformat_minor": 0,
  "metadata": {
    "colab": {
      "provenance": [],
      "toc_visible": true
    },
    "kernelspec": {
      "name": "python3",
      "display_name": "Python 3"
    }
  },
  "cells": [
    {
      "cell_type": "markdown",
      "metadata": {
        "id": "KJqp9AANOCtf"
      },
      "source": [
        "<img src=\"https://raw.githubusercontent.com/andre-marcos-perez/ebac-course-utils/main/media/logo/newebac_logo_black_half.png\" alt=\"ebac-logo\">\n",
        "\n",
        "---\n",
        "\n",
        "# **Módulo** | Python: Estruturas de Dados\n",
        "Caderno de **Exercícios**<br>\n",
        "Professor [André Perez](https://www.linkedin.com/in/andremarcosperez/)\n",
        "\n",
        "---"
      ]
    },
    {
      "cell_type": "markdown",
      "metadata": {
        "id": "d9jDtUbDOE1-"
      },
      "source": [
        "# **Tópicos**\n",
        "\n",
        "<ol type=\"1\">\n",
        "  <li>Listas;</li>\n",
        "  <li>Conjuntos;</li>\n",
        "  <li>Dicionários.</li>\n",
        "</ol>"
      ]
    },
    {
      "cell_type": "markdown",
      "metadata": {
        "id": "SmoHgt-lwkpD"
      },
      "source": [
        "---"
      ]
    },
    {
      "cell_type": "markdown",
      "metadata": {
        "id": "GABI6OW8OfQ2"
      },
      "source": [
        "# **Exercícios**"
      ]
    },
    {
      "cell_type": "markdown",
      "metadata": {
        "id": "muD1vxozykSC"
      },
      "source": [
        "## 1\\. Listas"
      ]
    },
    {
      "cell_type": "markdown",
      "metadata": {
        "id": "ahrFfCuBxJKs"
      },
      "source": [
        "Criei uma lista chamada `filmes` com o nome dos 10 primeiros filmes mais bem avaliados no site no [IMDB](https://www.imdb.com/chart/top/). Imprima o resultado."
      ]
    },
    {
      "cell_type": "code",
      "metadata": {
        "id": "OgL6Hv3bzOHI",
        "colab": {
          "base_uri": "https://localhost:8080/"
        },
        "outputId": "04222d6b-62e2-4468-8ab1-1ecd6cadacff"
      },
      "source": [
        "filmes = ['Um sonho de Liberdade', 'O Poderoso Chefao', 'Batman: O Cavaleiro das Trevas', 'O Poderoso Chefao 2', '12 Homens e uma sentenca', 'A Lista de Schindler','O Senhor dos Aneis: O retorno do Rei', 'Pulp Fiction - Tempo de Violencia', 'O senhor do Aneis: A sociedade do Anel', 'Tres Homens em conflito']\n",
        "print(filmes)\n",
        "print(len(filmes))"
      ],
      "execution_count": 24,
      "outputs": [
        {
          "output_type": "stream",
          "name": "stdout",
          "text": [
            "['Um sonho de Liberdade', 'O Poderoso Chefao', 'Batman: O Cavaleiro das Trevas', 'O Poderoso Chefao 2', '12 Homens e uma sentenca', 'A Lista de Schindler', 'O Senhor dos Aneis: O retorno do Rei', 'Pulp Fiction - Tempo de Violencia', 'O senhor do Aneis: A sociedade do Anel', 'Tres Homens em conflito']\n",
            "10\n"
          ]
        }
      ]
    },
    {
      "cell_type": "markdown",
      "metadata": {
        "id": "KI9zQRT2xa7m"
      },
      "source": [
        "Simule a movimentação do *ranking*. Utilize os métodos `insert` e `pop` para trocar a posição do primeiro e do segundo filme da lista. Imprima o resultado.\n",
        "\n"
      ]
    },
    {
      "cell_type": "code",
      "metadata": {
        "id": "zX3mA3_GzrXH",
        "colab": {
          "base_uri": "https://localhost:8080/"
        },
        "outputId": "35c07975-dfb2-4ee2-a06c-d5d9360a1b62"
      },
      "source": [
        "ranking = filmes.pop(0)\n",
        "ranking_1 = filmes.insert(1, 'Um Sonho de Liberdade')\n",
        "print(filmes)\n",
        "\n"
      ],
      "execution_count": 25,
      "outputs": [
        {
          "output_type": "stream",
          "name": "stdout",
          "text": [
            "['O Poderoso Chefao', 'Um Sonho de Liberdade', 'Batman: O Cavaleiro das Trevas', 'O Poderoso Chefao 2', '12 Homens e uma sentenca', 'A Lista de Schindler', 'O Senhor dos Aneis: O retorno do Rei', 'Pulp Fiction - Tempo de Violencia', 'O senhor do Aneis: A sociedade do Anel', 'Tres Homens em conflito']\n"
          ]
        }
      ]
    },
    {
      "cell_type": "markdown",
      "metadata": {
        "id": "zMN1Q3jdwoJm"
      },
      "source": [
        "---"
      ]
    },
    {
      "cell_type": "markdown",
      "metadata": {
        "id": "lxa5L6uF0ZJE"
      },
      "source": [
        "## 2\\. Conjuntos"
      ]
    },
    {
      "cell_type": "markdown",
      "metadata": {
        "id": "9JahS2Kj0d5u"
      },
      "source": [
        "Aconteceu um erro no seu *ranking*. Simule a duplicação dos três últimos filmes da lista. Imprima o resultado."
      ]
    },
    {
      "cell_type": "code",
      "metadata": {
        "id": "BnjnLBNC6PGe",
        "colab": {
          "base_uri": "https://localhost:8080/"
        },
        "outputId": "786628f1-2f91-427b-d49d-9de434b1e726"
      },
      "source": [
        "duplicacao = filmes.append('Pulp Fiction - Tempo de Violencia')\n",
        "duplicacao_2 = filmes.append('O senhor do Aneis: A sociedade do Anel')\n",
        "duplicacao_3 = filmes.append('Tres Homens em conflito')\n",
        "print(filmes)"
      ],
      "execution_count": 26,
      "outputs": [
        {
          "output_type": "stream",
          "name": "stdout",
          "text": [
            "['O Poderoso Chefao', 'Um Sonho de Liberdade', 'Batman: O Cavaleiro das Trevas', 'O Poderoso Chefao 2', '12 Homens e uma sentenca', 'A Lista de Schindler', 'O Senhor dos Aneis: O retorno do Rei', 'Pulp Fiction - Tempo de Violencia', 'O senhor do Aneis: A sociedade do Anel', 'Tres Homens em conflito', 'Pulp Fiction - Tempo de Violencia', 'O senhor do Aneis: A sociedade do Anel', 'Tres Homens em conflito']\n"
          ]
        }
      ]
    },
    {
      "cell_type": "markdown",
      "metadata": {
        "id": "suxTfCJB6ZiX"
      },
      "source": [
        "Utiliza a conversão `set` e `list` para remover os valores duplicados. Imprima o resultado."
      ]
    },
    {
      "cell_type": "code",
      "metadata": {
        "id": "ZvUGN-0n6joM",
        "colab": {
          "base_uri": "https://localhost:8080/"
        },
        "outputId": "4f2edc6e-0fea-4fa5-c4f3-78205aef160c"
      },
      "source": [
        "filmes = list(set(filmes))\n",
        "print(filmes)"
      ],
      "execution_count": 28,
      "outputs": [
        {
          "output_type": "stream",
          "name": "stdout",
          "text": [
            "['Um Sonho de Liberdade', 'A Lista de Schindler', 'Batman: O Cavaleiro das Trevas', 'Pulp Fiction - Tempo de Violencia', 'O Poderoso Chefao', 'O senhor do Aneis: A sociedade do Anel', 'Tres Homens em conflito', 'O Senhor dos Aneis: O retorno do Rei', '12 Homens e uma sentenca', 'O Poderoso Chefao 2']\n"
          ]
        }
      ]
    },
    {
      "cell_type": "markdown",
      "metadata": {
        "id": "ShkK35eQ6pAM"
      },
      "source": [
        "---"
      ]
    },
    {
      "cell_type": "markdown",
      "metadata": {
        "id": "EL_FzmxL6rTv"
      },
      "source": [
        "## 3\\. Dicionários"
      ]
    },
    {
      "cell_type": "markdown",
      "metadata": {
        "id": "i8l0gFqRCpfT"
      },
      "source": [
        "Repita os exercícios da parte 1 (listas). Os elementos da lista `filmes` devem ser dicionários no seguinte formato: `{'nome': <nome-do-filme>, 'ano': <ano do filme>}, 'sinopse': <sinopse do filme>}`."
      ]
    },
    {
      "cell_type": "code",
      "metadata": {
        "id": "tu6MSFwGDnHv",
        "colab": {
          "base_uri": "https://localhost:8080/"
        },
        "outputId": "a327be7d-7a7a-436c-c3aa-5212b515efef"
      },
      "source": [
        "filmes = []\n",
        "adicionar = {'nome':'Um sonho de Liberdade', 'ano':'1994', 'sinopse':'...',}\n",
        "filmes.append(adicionar)\n",
        "adicionar = {'nome':'O Poderoso Chefao', 'ano':'1972', 'sinopse':'...'}\n",
        "filmes.append(adicionar)\n",
        "adicionar = {'nome':'Batman: O Cavaleiro das Trevas', 'ano':'2008', 'sinopse':'...'}\n",
        "filmes.append(adicionar)\n",
        "adicionar = {'nome':'O Poderoso Chefao 2', 'ano':'1974', 'sinopse':'...'}\n",
        "filmes.append(adicionar)\n",
        "adicionar = {'nome':'12 Homens e uma sentenca', 'ano':'1957', 'sinopse':'...'}\n",
        "filmes.append(adicionar)\n",
        "adicionar = {'nome':'A Lista de Schindler', 'ano':'1993', 'sinopse':'...'}\n",
        "filmes.append(adicionar)\n",
        "adicionar = {'nome':'O Senhor dos Aneis: O retorno do Rei', 'ano':'2003', 'sinopse':'...'}\n",
        "filmes.append(adicionar)\n",
        "adicionar = {'nome':'Pulp Fiction - Tempo de Violencia', 'ano':'1994', 'sinopse':'...'}\n",
        "filmes.append(adicionar)\n",
        "adicionar = {'nome':'O senhor do Aneis: A sociedade do Anel', 'ano':'2001', 'sinopse':'...'}\n",
        "filmes.append(adicionar)\n",
        "adicionar = {'nome':'Tres Homens em conflito', 'ano':'1966', 'sinopse':'...'}\n",
        "filmes.append(adicionar)\n",
        "print(filmes)"
      ],
      "execution_count": 31,
      "outputs": [
        {
          "output_type": "stream",
          "name": "stdout",
          "text": [
            "[{'nome': 'Um sonho de Liberdade', 'ano': '1994', 'sinopse': '...'}, {'nome': 'O Poderoso Chefao', 'ano': '1972', 'sinopse': '...'}, {'nome': 'Batman: O Cavaleiro das Trevas', 'ano': '2008', 'sinopse': '...'}, {'nome': 'O Poderoso Chefao 2', 'ano': '1974', 'sinopse': '...'}, {'nome': '12 Homens e uma sentenca', 'ano': '1957', 'sinopse': '...'}, {'nome': 'A Lista de Schindler', 'ano': '1993', 'sinopse': '...'}, {'nome': 'O Senhor dos Aneis: O retorno do Rei', 'ano': '2003', 'sinopse': '...'}, {'nome': 'Pulp Fiction - Tempo de Violencia', 'ano': '1994', 'sinopse': '...'}, {'nome': 'O senhor do Aneis: A sociedade do Anel', 'ano': '2001', 'sinopse': '...'}, {'nome': 'Tres Homens em conflito', 'ano': '1966', 'sinopse': '...'}]\n"
          ]
        }
      ]
    }
  ]
}